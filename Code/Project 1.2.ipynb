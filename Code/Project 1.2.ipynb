{
 "cells": [
  {
   "cell_type": "markdown",
   "metadata": {},
   "source": [
    "Import Data"
   ]
  },
  {
   "cell_type": "code",
   "execution_count": 15,
   "metadata": {},
   "outputs": [
    {
     "name": "stdout",
     "output_type": "stream",
     "text": [
      "X shape is (69623, 46) \n",
      "Y shape is (69623, 1)\n",
      "[5, 6, 7, 8, 9]\n",
      "no of 0 target value value:51632\n",
      "no of 1 target value value:14128\n",
      "no of 2 target value value:3863\n",
      "X shape is (69623, 41) \n",
      "xT shape is (41, 69623)\n"
     ]
    }
   ],
   "source": [
    "import numpy as np\n",
    "import matplotlib.pyplot as plt\n",
    "import math\n",
    "\n",
    "#import data from File function\n",
    "def import_data(file_path):\n",
    "    data_target = []\n",
    "    data_input = []\n",
    "    with open(file_path, 'r') as f:\n",
    "        while True:\n",
    "            # Splitting our dataset per colums based on the space separator\n",
    "            data_str = f.readline().split(' ')\n",
    "            if not data_str[0]:\n",
    "                break\n",
    "            # Target is the first column\n",
    "            data_target.append(float(data_str[0]))\n",
    "            # Features are columns 2 to 48, where we take only the values\n",
    "            data_input.append([float(a.split(':')[1]) for a in data_str[2:48]])\n",
    "\n",
    "    x = np.array(data_input)\n",
    "    y = np.array(data_target).reshape((-1, 1))\n",
    "    return x, y\n",
    "\n",
    "file_path = r'Querylevelnorm.txt'\n",
    "# import data from Querylevelnorm.txt\n",
    "x, y = import_data(file_path)\n",
    "print(\"X shape is\", x.shape, \"\\nY shape is\", y.shape)\n",
    "\n",
    "xT = np.transpose(x)\n",
    "# Remove features with variance zero as they have no impact on the model\n",
    "p = []\n",
    "for i in range(0,46):\n",
    "    if np.var(xT[i]) == float(0):\n",
    "        p.append(i)\n",
    "print(p)\n",
    "x = np.delete(x, p, axis = 1)\n",
    "\n",
    "\n",
    "xT = np.transpose(x)\n",
    "a = 0\n",
    "b = 0\n",
    "c = 0\n",
    "# calculating the data variation\n",
    "for i in range(0,69623):\n",
    "    if y[i] == 0:\n",
    "        a += 1\n",
    "    elif y[i] == 1:\n",
    "        b += 1\n",
    "    else:\n",
    "        c += 1\n",
    "\n",
    "print('no of 0 target value value:' + str(a))\n",
    "print('no of 1 target value value:' + str(b))\n",
    "print('no of 2 target value value:' + str(c))\n",
    "print(\"X shape is\", x.shape, \"\\nxT shape is\", xT.shape)  "
   ]
  },
  {
   "cell_type": "markdown",
   "metadata": {},
   "source": [
    "Data Split using sklearn"
   ]
  },
  {
   "cell_type": "code",
   "execution_count": 16,
   "metadata": {},
   "outputs": [
    {
     "name": "stdout",
     "output_type": "stream",
     "text": [
      "X train shape is (55704, 41) \n",
      "Y shape train is (55704, 1)\n",
      "X test shape is (6963, 41) \n",
      "Y shape test is (6963, 1)\n",
      "X validation shape is (6956, 41) \n",
      "Y shape validation is (6956, 1)\n"
     ]
    }
   ],
   "source": [
    "from sklearn.cross_validation import train_test_split\n",
    "\n",
    "x_train, x_test, y_train, y_test = train_test_split(x, y, test_size=0.1, random_state=1)\n",
    "\n",
    "x_train, x_val, y_train, y_val = train_test_split(x_train, y_train, test_size=0.111, random_state=1)\n",
    "\n",
    "print(\"X train shape is\", x_train.shape, \"\\nY shape train is\", y_train.shape)\n",
    "print(\"X test shape is\", x_test.shape, \"\\nY shape test is\", y_test.shape)\n",
    "print(\"X validation shape is\", x_val.shape, \"\\nY shape validation is\", y_val.shape)"
   ]
  },
  {
   "cell_type": "markdown",
   "metadata": {},
   "source": [
    "\n",
    "\n",
    "Lets Do Closed Form Solution"
   ]
  },
  {
   "cell_type": "markdown",
   "metadata": {},
   "source": [
    "1. Create Phi for t = W * Phi"
   ]
  },
  {
   "cell_type": "markdown",
   "metadata": {},
   "source": [
    "Calculate Mu and Big Sigma for Phi"
   ]
  },
  {
   "cell_type": "code",
   "execution_count": 17,
   "metadata": {},
   "outputs": [],
   "source": [
    "# Finding Mu using kmeans cluster\n",
    "\n",
    "from sklearn.cluster import KMeans\n",
    "\n",
    "def KmeansCluster(n_clusters):\n",
    "    kmeans = KMeans(n_clusters)\n",
    "    # Fitting\n",
    "    kmeans = kmeans.fit(x_train)\n",
    "    # Centroid values\n",
    "    centroids = kmeans.cluster_centers_\n",
    "    return centroids\n"
   ]
  },
  {
   "cell_type": "code",
   "execution_count": 18,
   "metadata": {},
   "outputs": [
    {
     "name": "stdout",
     "output_type": "stream",
     "text": [
      "BigSigma shape is (41, 41)\n"
     ]
    }
   ],
   "source": [
    "# calculate BigSigma- Its only dependent on training data\n",
    "#-------------------------------------------------------\n",
    "BigSigma = np.zeros((x_train.shape[1],x_train.shape[1]))\n",
    "varVect  = []\n",
    "x_trainT = np.transpose(x_train)\n",
    "\n",
    "for i in range(0,x_train.shape[1]):\n",
    "    vct = []\n",
    "    for j in range(0,len(x_train)):\n",
    "        vct.append(x_trainT[i][j])    \n",
    "    varVect.append(np.var(vct))\n",
    "\n",
    "for i in range(x_train.shape[1]):\n",
    "        BigSigma[i][i] = varVect[i]\n",
    "        \n",
    "BigSigma = np.dot(200,BigSigma)\n",
    "#-------------------------------------------------------\n",
    "print(\"BigSigma shape is\", BigSigma.shape)"
   ]
  },
  {
   "cell_type": "code",
   "execution_count": 19,
   "metadata": {},
   "outputs": [],
   "source": [
    "# now calculate Phi\n",
    "\n",
    "#used from code given\n",
    "def GetScalar(DataRow,MuRow, BigSigInv):  # To calculate the exponential term in basis function.\n",
    "    R = np.subtract(DataRow,MuRow)\n",
    "    T = np.dot(BigSigInv,np.transpose(R))  \n",
    "    L = np.dot(R,T)\n",
    "    return L\n",
    "\n",
    "def CalculatePhi(Data, Mu, BigSigma): # determine phi matrix value\n",
    "    DataT = np.transpose(Data)\n",
    "    Phi = np.zeros((int(DataT.shape[1]),len(Mu))) \n",
    "    BigSigInv = np.linalg.inv(BigSigma)\n",
    "    \n",
    "    for i in range(0,len(Mu)):\n",
    "        for j in range(0,int(DataT.shape[1])):\n",
    "            Phi[j][i] = math.exp(-0.5 * GetScalar(Data[j],Mu[i],BigSigInv))\n",
    "    return Phi\n",
    "\n",
    "def CalculateWeightsClosedForm(Phi_train, y_train, Lambda): # Calculates Weights in Closed Form Solution\n",
    "    Phi_trainT = np.transpose(Phi_train) \n",
    "    Lambda_I = np.identity(len(Phi_train[0]))\n",
    "    for i in range(0,len(Phi_train[0])):\n",
    "        Lambda_I[i][i] = Lambda\n",
    "    \n",
    "    # phisquare = phitranspose * phi\n",
    "    PHI_SQR     = np.dot(Phi_trainT,Phi_train)\n",
    "    # add the regulirization term\n",
    "    PHI_SQR_RE  = np.add(Lambda_I,PHI_SQR)\n",
    "    # inverse of phisquare regulizer\n",
    "    PHI_SQR_INV = np.linalg.inv(PHI_SQR)\n",
    "    # phitranspose * t\n",
    "    W_rest = np.dot(Phi_trainT, y_train)\n",
    "    W = np.dot(PHI_SQR_INV,W_rest)\n",
    "    return W\n"
   ]
  },
  {
   "cell_type": "code",
   "execution_count": 20,
   "metadata": {},
   "outputs": [],
   "source": [
    "# return target value used for validation and testing\n",
    "def GetValTest(Phi,W):\n",
    "    Y = np.dot(Phi, W)\n",
    "    return Y\n",
    "\n",
    "# returns accuracy and root mean square of the dataset given\n",
    "def GetErms(VAL_TEST_OUT,ValDataAct):\n",
    "    sum = 0.0\n",
    "    t=0\n",
    "    accuracy = 0.0\n",
    "    counter = 0\n",
    "    val = 0.0\n",
    "    for i in range (0,len(VAL_TEST_OUT)):\n",
    "        sum = sum + math.pow((ValDataAct[i] - VAL_TEST_OUT[i]),2) # square of actual - predicted value\n",
    "        if(int(np.around(VAL_TEST_OUT[i], 0)) == ValDataAct[i]): # check no of correctly predicted values\n",
    "            counter+=1\n",
    "    accuracy = (float((counter*100))/float(len(VAL_TEST_OUT))) #accuracy = no of correctly predicted / total predicted\n",
    "    return (str(accuracy) + ',' +  str(math.sqrt(sum/len(VAL_TEST_OUT)))) # return accuracy and erms"
   ]
  },
  {
   "cell_type": "code",
   "execution_count": 21,
   "metadata": {},
   "outputs": [
    {
     "name": "stdout",
     "output_type": "stream",
     "text": [
      "(10, 41)\n",
      "(55704, 10)\n",
      "(10, 1)\n"
     ]
    }
   ],
   "source": [
    "n_clusters = 10\n",
    "Lambda = 0.3\n",
    "\n",
    "centroids = KmeansCluster(n_clusters)\n",
    "print(centroids.shape)\n",
    "\n",
    "Phi_train = CalculatePhi(x_train, centroids, BigSigma)\n",
    "W = CalculateWeightsClosedForm(Phi_train, y_train, Lambda)\n",
    "print(Phi_train.shape)\n",
    "print(W.shape) \n",
    "\n",
    "Phi_Test = CalculatePhi(x_test, centroids, BigSigma) \n",
    "Phi_Val  = CalculatePhi(x_val, centroids, BigSigma)\n",
    "\n",
    "TR_TEST_OUT  = GetValTest(Phi_train, W)\n",
    "VAL_TEST_OUT = GetValTest(Phi_Val, W)\n",
    "TEST_OUT     = GetValTest(Phi_Test, W)\n",
    "\n",
    "TrainingAccuracy   = str(GetErms(TR_TEST_OUT, y_train))\n",
    "ValidationAccuracy = str(GetErms(VAL_TEST_OUT, y_val))\n",
    "TestAccuracy       = str(GetErms(TEST_OUT, y_test))"
   ]
  },
  {
   "cell_type": "code",
   "execution_count": 8,
   "metadata": {},
   "outputs": [
    {
     "name": "stdout",
     "output_type": "stream",
     "text": [
      "UBITname      = abhavlut\n",
      "Person Number = 50288904\n",
      "----------------------------------------------------\n",
      "------------------LeToR Data------------------------\n",
      "----------------------------------------------------\n",
      "-------Closed Form with Radial Basis Function-------\n",
      "----------------------------------------------------\n",
      "E_rms Training   = 0.5560733243603909\n",
      "E_rms Validation = 0.5593468916031554\n",
      "E_rms Testing    = 0.5552526028411682\n",
      "Accuracy Training   = 73.1922303604768\n",
      "Accuracy Validation = 73.23174238067855\n",
      "Accuracy Testing    = 73.54588539422663\n"
     ]
    }
   ],
   "source": [
    "print ('UBITname      = abhavlut')\n",
    "print ('Person Number = 50288904')\n",
    "print ('----------------------------------------------------')\n",
    "print (\"------------------LeToR Data------------------------\")\n",
    "print ('----------------------------------------------------')\n",
    "print (\"-------Closed Form with Radial Basis Function-------\")\n",
    "print ('----------------------------------------------------')\n",
    "\n",
    "print (\"E_rms Training   = \" + TrainingAccuracy.split(',')[1])\n",
    "print (\"E_rms Validation = \" + ValidationAccuracy.split(',')[1])\n",
    "print (\"E_rms Testing    = \" + TestAccuracy.split(',')[1])\n",
    "print (\"Accuracy Training   = \" + TrainingAccuracy.split(',')[0])\n",
    "print (\"Accuracy Validation = \" + ValidationAccuracy.split(',')[0])\n",
    "print (\"Accuracy Testing    = \" + TestAccuracy.split(',')[0])"
   ]
  },
  {
   "cell_type": "code",
   "execution_count": 173,
   "metadata": {},
   "outputs": [
    {
     "name": "stdout",
     "output_type": "stream",
     "text": [
      "(5, 41)\n",
      "(10, 41)\n",
      "(15, 41)\n",
      "(20, 41)\n",
      "(25, 41)\n",
      "(30, 41)\n",
      "(40, 41)\n",
      "(50, 41)\n",
      "(75, 41)\n",
      "(100, 41)\n"
     ]
    }
   ],
   "source": [
    "# varying Cluster Size\n",
    "n_clusters = [5,10,15,20,25,30,40,50,75,100]\n",
    "Lambda = 0.3\n",
    "TrainingERMS = []\n",
    "ValidationERMS = [] \n",
    "TestERMS = []\n",
    "TrainingAccuracy = [] \n",
    "ValidationAccuracy = [] \n",
    "TestAccuracy =[]    \n",
    "\n",
    "for i in range(0,10):\n",
    "    centroids = KmeansCluster(n_clusters[i])\n",
    "    print(centroids.shape)\n",
    "\n",
    "    Phi_train = CalculatePhi(x_train, centroids, BigSigma)\n",
    "    W = CalculateWeightsClosedForm(Phi_train, y_train, Lambda)\n",
    "    \n",
    "    Phi_Test = CalculatePhi(x_test, centroids, BigSigma) \n",
    "    Phi_Val  = CalculatePhi(x_val, centroids, BigSigma)\n",
    "\n",
    "    TR_TEST_OUT  = GetValTest(Phi_train, W)\n",
    "    VAL_TEST_OUT = GetValTest(Phi_Val, W)\n",
    "    TEST_OUT     = GetValTest(Phi_Test, W)\n",
    "\n",
    "    TrainingERMS.append(float(GetErms(TR_TEST_OUT, y_train).split(',')[1]))\n",
    "    ValidationERMS.append(float(GetErms(VAL_TEST_OUT, y_val).split(',')[1]))\n",
    "    TestERMS.append(float(GetErms(TEST_OUT, y_test).split(',')[1]))\n",
    "    TrainingAccuracy.append(float(GetErms(TR_TEST_OUT, y_train).split(',')[0]))\n",
    "    ValidationAccuracy.append(float(GetErms(VAL_TEST_OUT, y_val).split(',')[0]))\n",
    "    TestAccuracy.append(float(GetErms(TEST_OUT, y_test).split(',')[0]))"
   ]
  },
  {
   "cell_type": "code",
   "execution_count": 174,
   "metadata": {},
   "outputs": [
    {
     "data": {
      "image/png": "[encoded data removed]",
      "text/plain": [
       "<Figure size 432x288 with 1 Axes>"
      ]
     },
     "metadata": {},
     "output_type": "display_data"
    }
   ],
   "source": [
    "fig, ax = plt.subplots()\n",
    "line1, = ax.plot(n_clusters, TrainingERMS, label='Training Data')\n",
    "line2, = ax.plot(n_clusters, ValidationERMS, label='Validation Data')\n",
    "line3, = ax.plot(n_clusters, TestERMS, label='Testing Data')\n",
    "ax.set_xlabel('N clusters')\n",
    "ax.set_ylabel('ERMS')\n",
    "ax.grid(True)\n",
    "ax.legend()\n",
    "plt.show()"
   ]
  },
  {
   "cell_type": "code",
   "execution_count": 175,
   "metadata": {},
   "outputs": [
    {
     "data": {
      "image/png": "[encoded data removed]",
      "text/plain": [
       "<Figure size 432x288 with 1 Axes>"
      ]
     },
     "metadata": {},
     "output_type": "display_data"
    }
   ],
   "source": [
    "fig, ax = plt.subplots()\n",
    "line1, = ax.plot(n_clusters, TrainingAccuracy, label='Training Data')\n",
    "line2, = ax.plot(n_clusters, ValidationAccuracy, label='Validation Data')\n",
    "line3, = ax.plot(n_clusters, TestAccuracy, label='Testing Data')\n",
    "ax.set_xlabel('N clusters')\n",
    "ax.set_ylabel('Accuracy')\n",
    "ax.grid(True)\n",
    "ax.legend()\n",
    "plt.show()"
   ]
  },
  {
   "cell_type": "code",
   "execution_count": 169,
   "metadata": {},
   "outputs": [
    {
     "name": "stdout",
     "output_type": "stream",
     "text": [
      "(10, 41)\n"
     ]
    }
   ],
   "source": [
    "# varying Lamda Size\n",
    "n_clusters = 10\n",
    "Lambda = [0.1,0.2,0.3,0.4,0.5,1,2,10,100]\n",
    "TrainingERMS = []\n",
    "ValidationERMS = [] \n",
    "TestERMS = []\n",
    "TrainingAccuracy = [] \n",
    "ValidationAccuracy = [] \n",
    "TestAccuracy =[]    \n",
    "\n",
    "centroids = KmeansCluster(n_clusters)\n",
    "print(centroids.shape)\n",
    "Phi_train = CalculatePhi(x_train, centroids, BigSigma)\n",
    "\n",
    "for i in range(0,9):\n",
    "    W = CalculateWeightsClosedForm(Phi_train, y_train, Lambda[i])\n",
    "\n",
    "    Phi_Test = CalculatePhi(x_test, centroids, BigSigma) \n",
    "    Phi_Val  = CalculatePhi(x_val, centroids, BigSigma)\n",
    "\n",
    "    TR_TEST_OUT  = GetValTest(Phi_train, W)\n",
    "    VAL_TEST_OUT = GetValTest(Phi_Val, W)\n",
    "    TEST_OUT     = GetValTest(Phi_Test, W)\n",
    "\n",
    "    TrainingERMS.append(float(GetErms(TR_TEST_OUT, y_train).split(',')[1]))\n",
    "    ValidationERMS.append(float(GetErms(VAL_TEST_OUT, y_val).split(',')[1]))\n",
    "    TestERMS.append(float(GetErms(TEST_OUT, y_test).split(',')[1]))\n",
    "    TrainingAccuracy.append(float(GetErms(TR_TEST_OUT, y_train).split(',')[0]))\n",
    "    ValidationAccuracy.append(float(GetErms(VAL_TEST_OUT, y_val).split(',')[0]))\n",
    "    TestAccuracy.append(float(GetErms(TEST_OUT, y_test).split(',')[0]))"
   ]
  },
  {
   "cell_type": "code",
   "execution_count": 170,
   "metadata": {},
   "outputs": [
    {
     "data": {
      "image/png": "[encoded data removed]",
      "text/plain": [
       "<Figure size 432x288 with 1 Axes>"
      ]
     },
     "metadata": {},
     "output_type": "display_data"
    }
   ],
   "source": [
    "fig, ax = plt.subplots()\n",
    "line1, = ax.plot(Lambda, TrainingERMS, label='Training Data')\n",
    "line2, = ax.plot(Lambda, ValidationERMS, label='Validation Data')\n",
    "line3, = ax.plot(Lambda, TestERMS, label='Testing Data')\n",
    "ax.set_xlabel('Lambda')\n",
    "ax.set_ylabel('ERMS')\n",
    "ax.grid(True)\n",
    "ax.legend()\n",
    "plt.show()"
   ]
  },
  {
   "cell_type": "code",
   "execution_count": 172,
   "metadata": {},
   "outputs": [
    {
     "data": {
      "image/png": "[encoded data removed]",
      "text/plain": [
       "<Figure size 432x288 with 1 Axes>"
      ]
     },
     "metadata": {},
     "output_type": "display_data"
    }
   ],
   "source": [
    "fig, ax = plt.subplots()\n",
    "line1, = ax.plot(Lambda, TrainingAccuracy, label='Training Data')\n",
    "line2, = ax.plot(Lambda, ValidationAccuracy, label='Validation Data')\n",
    "line3, = ax.plot(Lambda, TestAccuracy, label='Testing Data')\n",
    "ax.set_xlabel('Lambda')\n",
    "ax.set_ylabel('Accuracy')\n",
    "ax.grid(True)\n",
    "ax.legend()\n",
    "plt.show()"
   ]
  },
  {
   "cell_type": "markdown",
   "metadata": {},
   "source": [
    "2. Gradient Descent Solution"
   ]
  },
  {
   "cell_type": "code",
   "execution_count": 39,
   "metadata": {},
   "outputs": [
    {
     "name": "stdout",
     "output_type": "stream",
     "text": [
      "(55704,)\n",
      "(55704, 10)\n",
      "(55704,)\n",
      "loop complete\n",
      "loop complete\n",
      "loop complete\n"
     ]
    },
    {
     "ename": "KeyboardInterrupt",
     "evalue": "",
     "output_type": "error",
     "traceback": [
      "\u001b[0;31m---------------------------------------------------------------------------\u001b[0m",
      "\u001b[0;31mKeyboardInterrupt\u001b[0m                         Traceback (most recent call last)",
      "\u001b[0;32m<ipython-input-39-7680dca1c4b9>\u001b[0m in \u001b[0;36m<module>\u001b[0;34m()\u001b[0m\n\u001b[1;32m     58\u001b[0m         \u001b[0;31m#-----------------TestingData Accuracy---------------------#\u001b[0m\u001b[0;34m\u001b[0m\u001b[0;34m\u001b[0m\u001b[0m\n\u001b[1;32m     59\u001b[0m         \u001b[0mTEST_OUT\u001b[0m      \u001b[0;34m=\u001b[0m \u001b[0mGetValTest\u001b[0m\u001b[0;34m(\u001b[0m\u001b[0mPhi_Test\u001b[0m\u001b[0;34m,\u001b[0m\u001b[0mW_T_Next\u001b[0m\u001b[0;34m)\u001b[0m \u001b[0;31m# predicted t for Testing data\u001b[0m\u001b[0;34m\u001b[0m\u001b[0m\n\u001b[0;32m---> 60\u001b[0;31m         \u001b[0mErms_Test\u001b[0m \u001b[0;34m=\u001b[0m \u001b[0mGetErms\u001b[0m\u001b[0;34m(\u001b[0m\u001b[0mTEST_OUT\u001b[0m\u001b[0;34m,\u001b[0m\u001b[0my_test\u001b[0m\u001b[0;34m)\u001b[0m\u001b[0;34m\u001b[0m\u001b[0m\n\u001b[0m\u001b[1;32m     61\u001b[0m         \u001b[0mL_Erms_Test\u001b[0m\u001b[0;34m.\u001b[0m\u001b[0mappend\u001b[0m\u001b[0;34m(\u001b[0m\u001b[0mfloat\u001b[0m\u001b[0;34m(\u001b[0m\u001b[0mErms_Test\u001b[0m\u001b[0;34m.\u001b[0m\u001b[0msplit\u001b[0m\u001b[0;34m(\u001b[0m\u001b[0;34m','\u001b[0m\u001b[0;34m)\u001b[0m\u001b[0;34m[\u001b[0m\u001b[0;36m1\u001b[0m\u001b[0;34m]\u001b[0m\u001b[0;34m)\u001b[0m\u001b[0;34m)\u001b[0m \u001b[0;31m#erms\u001b[0m\u001b[0;34m\u001b[0m\u001b[0m\n\u001b[1;32m     62\u001b[0m         \u001b[0mL_Acc_Test\u001b[0m\u001b[0;34m.\u001b[0m\u001b[0mappend\u001b[0m\u001b[0;34m(\u001b[0m\u001b[0mfloat\u001b[0m\u001b[0;34m(\u001b[0m\u001b[0mErms_Test\u001b[0m\u001b[0;34m.\u001b[0m\u001b[0msplit\u001b[0m\u001b[0;34m(\u001b[0m\u001b[0;34m','\u001b[0m\u001b[0;34m)\u001b[0m\u001b[0;34m[\u001b[0m\u001b[0;36m0\u001b[0m\u001b[0;34m]\u001b[0m\u001b[0;34m)\u001b[0m\u001b[0;34m)\u001b[0m  \u001b[0;31m#Accuracy\u001b[0m\u001b[0;34m\u001b[0m\u001b[0m\n",
      "\u001b[0;32m<ipython-input-20-0209c555ab21>\u001b[0m in \u001b[0;36mGetErms\u001b[0;34m(VAL_TEST_OUT, ValDataAct)\u001b[0m\n\u001b[1;32m     12\u001b[0m     \u001b[0mval\u001b[0m \u001b[0;34m=\u001b[0m \u001b[0;36m0.0\u001b[0m\u001b[0;34m\u001b[0m\u001b[0m\n\u001b[1;32m     13\u001b[0m     \u001b[0;32mfor\u001b[0m \u001b[0mi\u001b[0m \u001b[0;32min\u001b[0m \u001b[0mrange\u001b[0m \u001b[0;34m(\u001b[0m\u001b[0;36m0\u001b[0m\u001b[0;34m,\u001b[0m\u001b[0mlen\u001b[0m\u001b[0;34m(\u001b[0m\u001b[0mVAL_TEST_OUT\u001b[0m\u001b[0;34m)\u001b[0m\u001b[0;34m)\u001b[0m\u001b[0;34m:\u001b[0m\u001b[0;34m\u001b[0m\u001b[0m\n\u001b[0;32m---> 14\u001b[0;31m         \u001b[0msum\u001b[0m \u001b[0;34m=\u001b[0m \u001b[0msum\u001b[0m \u001b[0;34m+\u001b[0m \u001b[0mmath\u001b[0m\u001b[0;34m.\u001b[0m\u001b[0mpow\u001b[0m\u001b[0;34m(\u001b[0m\u001b[0;34m(\u001b[0m\u001b[0mValDataAct\u001b[0m\u001b[0;34m[\u001b[0m\u001b[0mi\u001b[0m\u001b[0;34m]\u001b[0m \u001b[0;34m-\u001b[0m \u001b[0mVAL_TEST_OUT\u001b[0m\u001b[0;34m[\u001b[0m\u001b[0mi\u001b[0m\u001b[0;34m]\u001b[0m\u001b[0;34m)\u001b[0m\u001b[0;34m,\u001b[0m\u001b[0;36m2\u001b[0m\u001b[0;34m)\u001b[0m \u001b[0;31m# square of actual - predicted value\u001b[0m\u001b[0;34m\u001b[0m\u001b[0m\n\u001b[0m\u001b[1;32m     15\u001b[0m         \u001b[0;32mif\u001b[0m\u001b[0;34m(\u001b[0m\u001b[0mint\u001b[0m\u001b[0;34m(\u001b[0m\u001b[0mnp\u001b[0m\u001b[0;34m.\u001b[0m\u001b[0maround\u001b[0m\u001b[0;34m(\u001b[0m\u001b[0mVAL_TEST_OUT\u001b[0m\u001b[0;34m[\u001b[0m\u001b[0mi\u001b[0m\u001b[0;34m]\u001b[0m\u001b[0;34m,\u001b[0m \u001b[0;36m0\u001b[0m\u001b[0;34m)\u001b[0m\u001b[0;34m)\u001b[0m \u001b[0;34m==\u001b[0m \u001b[0mValDataAct\u001b[0m\u001b[0;34m[\u001b[0m\u001b[0mi\u001b[0m\u001b[0;34m]\u001b[0m\u001b[0;34m)\u001b[0m\u001b[0;34m:\u001b[0m \u001b[0;31m# check no of correctly predicted values\u001b[0m\u001b[0;34m\u001b[0m\u001b[0m\n\u001b[1;32m     16\u001b[0m             \u001b[0mcounter\u001b[0m\u001b[0;34m+=\u001b[0m\u001b[0;36m1\u001b[0m\u001b[0;34m\u001b[0m\u001b[0m\n",
      "\u001b[0;31mKeyboardInterrupt\u001b[0m: "
     ]
    }
   ],
   "source": [
    "# initialize weights randomly\n",
    "W_Now = np.random.rand(10,) \n",
    "#print(W_Now.shape)\n",
    "La           = 2\n",
    "learningRate = 0.01\n",
    "L_Erms_Val   = []\n",
    "L_Erms_TR    = []\n",
    "L_Erms_Test  = []\n",
    "L_Acc_Val   = []\n",
    "L_Acc_TR    = []\n",
    "L_Acc_Test  = []\n",
    "W_Mat        = []\n",
    "\n",
    "\n",
    "print(y_train.shape)\n",
    "print(Phi_train.shape)\n",
    "y_train = np.reshape(y_train, (55704,))  \n",
    "print(y_train.shape)\n",
    "\n",
    "ErmsVal   = []\n",
    "ErmsTR    = []\n",
    "ErmsTest  = []\n",
    "AccVal   = []\n",
    "AccTR    = []\n",
    "AccTest  = []\n",
    "\n",
    "\n",
    "learningRate = [0.001,0.01, 0.05,0.1,0.15,0.2,0.3]\n",
    "for j in range(0,7):\n",
    "    L_Erms_Val   = []\n",
    "    L_Erms_TR    = []\n",
    "    L_Erms_Test  = []\n",
    "    L_Acc_Val   = []\n",
    "    L_Acc_TR    = []\n",
    "    L_Acc_Test  = []\n",
    "    for i in range(0,400):\n",
    "\n",
    "        #print ('---------Iteration: ' + str(i) + '--------------')\n",
    "        Delta_E_D     = -np.dot((y_train[i] - np.dot(np.transpose(W_Now),Phi_train[i])),Phi_train[i]) # weights updated\n",
    "        La_Delta_E_W  = np.dot(La,W_Now) # SCALING\n",
    "        Delta_E       = np.add(Delta_E_D,La_Delta_E_W)   \n",
    "        Delta_W       = -np.dot(learningRate[j],Delta_E) # learning quotient\n",
    "        W_T_Next      = W_Now + Delta_W # after single iteration - updated weight\n",
    "        W_Now         = W_T_Next\n",
    "\n",
    "        #-----------------TrainingData Accuracy---------------------#\n",
    "        TR_TEST_OUT   = GetValTest(Phi_train,W_T_Next) # predicted t for training data\n",
    "        Erms_TR       = GetErms(TR_TEST_OUT,y_train)\n",
    "        L_Erms_TR.append(float(Erms_TR.split(',')[1])) #erms\n",
    "        L_Acc_TR.append(float(Erms_TR.split(',')[0]))  #Accuracy\n",
    "\n",
    "        #-----------------ValidationData Accuracy---------------------#\n",
    "        VAL_TEST_OUT  = GetValTest(Phi_Val,W_T_Next) # predicted t for Validation data\n",
    "        Erms_Val      = GetErms(VAL_TEST_OUT,y_val)\n",
    "        L_Erms_Val.append(float(Erms_Val.split(',')[1])) #erms\n",
    "        L_Acc_Val.append(float(Erms_Val.split(',')[0]))  #Accuracy\n",
    "\n",
    "        #-----------------TestingData Accuracy---------------------#\n",
    "        TEST_OUT      = GetValTest(Phi_Test,W_T_Next) # predicted t for Testing data\n",
    "        Erms_Test = GetErms(TEST_OUT,y_test)\n",
    "        L_Erms_Test.append(float(Erms_Test.split(',')[1])) #erms\n",
    "        L_Acc_Test.append(float(Erms_Test.split(',')[0]))  #Accuracy\n",
    "    \n",
    "    ErmsTR.append(np.around(min(L_Erms_TR),5))\n",
    "    AccTR.append(np.around(max(L_Acc_TR),5))\n",
    "    ErmsVal.append(np.around(min(L_Erms_Val),5))\n",
    "    AccVal.append(np.around(max(L_Acc_Val),5))\n",
    "    ErmsTest.append(np.around(min(L_Erms_Test),5))\n",
    "    AccTest.append(np.around(max(L_Acc_Test),5))\n",
    "    print('loop complete')"
   ]
  },
  {
   "cell_type": "code",
   "execution_count": 121,
   "metadata": {},
   "outputs": [
    {
     "name": "stdout",
     "output_type": "stream",
     "text": [
      "----------Gradient Descent Solution--------------------\n",
      "Learning Rate : 0.001\n",
      "\n",
      "E_rms Training for loop 0: 0.57091\n",
      "\n",
      "E_rms Validation for loop 0: 0.57383\n",
      "\n",
      "E_rms Testing for loop 0: 0.56849\n",
      "\n",
      "Acc Training for loop 0: 74.14548\n",
      "\n",
      "Acc Validation for loop 0: 73.83554\n",
      "\n",
      "Acc Testing for loop 0: 74.59428\n",
      "Learning Rate : 0.01\n",
      "\n",
      "E_rms Training for loop 1: 0.57137\n",
      "\n",
      "E_rms Validation for loop 1: 0.57427\n",
      "\n",
      "E_rms Testing for loop 1: 0.56877\n",
      "\n",
      "Acc Training for loop 1: 74.14548\n",
      "\n",
      "Acc Validation for loop 1: 73.83554\n",
      "\n",
      "Acc Testing for loop 1: 74.59428\n",
      "Learning Rate : 0.05\n",
      "\n",
      "E_rms Training for loop 2: 0.5717\n",
      "\n",
      "E_rms Validation for loop 2: 0.5745\n",
      "\n",
      "E_rms Testing for loop 2: 0.56912\n",
      "\n",
      "Acc Training for loop 2: 74.14548\n",
      "\n",
      "Acc Validation for loop 2: 73.84991\n",
      "\n",
      "Acc Testing for loop 2: 74.59428\n",
      "Learning Rate : 0.1\n",
      "\n",
      "E_rms Training for loop 3: 0.57487\n",
      "\n",
      "E_rms Validation for loop 3: 0.57814\n",
      "\n",
      "E_rms Testing for loop 3: 0.57183\n",
      "\n",
      "Acc Training for loop 3: 74.14548\n",
      "\n",
      "Acc Validation for loop 3: 73.83554\n",
      "\n",
      "Acc Testing for loop 3: 74.59428\n",
      "Learning Rate : 0.15\n",
      "\n",
      "E_rms Training for loop 4: 0.57161\n",
      "\n",
      "E_rms Validation for loop 4: 0.57437\n",
      "\n",
      "E_rms Testing for loop 4: 0.56917\n",
      "\n",
      "Acc Training for loop 4: 74.14548\n",
      "\n",
      "Acc Validation for loop 4: 73.83554\n",
      "\n",
      "Acc Testing for loop 4: 74.59428\n",
      "Learning Rate : 0.2\n",
      "\n",
      "E_rms Training for loop 5: 0.57157\n",
      "\n",
      "E_rms Validation for loop 5: 0.57459\n",
      "\n",
      "E_rms Testing for loop 5: 0.56883\n",
      "\n",
      "Acc Training for loop 5: 74.14548\n",
      "\n",
      "Acc Validation for loop 5: 73.84991\n",
      "\n",
      "Acc Testing for loop 5: 74.59428\n",
      "Learning Rate : 0.3\n",
      "\n",
      "E_rms Training for loop 6: 3.60625\n",
      "\n",
      "E_rms Validation for loop 6: 3.60248\n",
      "\n",
      "E_rms Testing for loop 6: 3.60909\n",
      "\n",
      "Acc Training for loop 6: 0.0018\n",
      "\n",
      "Acc Validation for loop 6: 0.0\n",
      "\n",
      "Acc Testing for loop 6: 0.0\n"
     ]
    }
   ],
   "source": [
    "print ('----------Gradient Descent Solution--------------------')\n",
    "for i in range(0,7):\n",
    "    print (\"\\nLearning Rate : \" + str(learningRate[i]))\n",
    "    print (\"\\nE_rms Training for loop \" + str(i) +\": \" + str(ErmsTR[i]))\n",
    "    print (\"\\nE_rms Validation for loop \" + str(i) +\": \" + str(ErmsVal[i]))\n",
    "    print (\"\\nE_rms Testing for loop \" + str(i) +\": \" + str(ErmsTest[i]))\n",
    "\n",
    "    print (\"\\nAcc Training for loop \" + str(i) +\": \" + str(AccTR[i]))\n",
    "    print (\"\\nAcc Validation for loop \" + str(i) +\": \" + str(AccVal[i]))\n",
    "    print (\"\\nAcc Testing for loop \" + str(i) +\": \" + str(AccTest[i]))"
   ]
  },
  {
   "cell_type": "code",
   "execution_count": 133,
   "metadata": {},
   "outputs": [
    {
     "name": "stdout",
     "output_type": "stream",
     "text": [
      "3.60625\n"
     ]
    }
   ],
   "source": [
    "ErmsTRPlot = ErmsTR.pop()\n",
    "ErmsValPlot = ErmsVal.pop()\n",
    "ErmsTestPlot = ErmsTest.pop()\n",
    "\n",
    "AccTRPlot = AccTR.pop()\n",
    "AccValPlot = AccVal.pop()\n",
    "AccTestPlot = AccTest.pop()\n",
    "learningRate.pop()\n",
    "print(ErmsTRPlot)"
   ]
  },
  {
   "cell_type": "code",
   "execution_count": 145,
   "metadata": {},
   "outputs": [
    {
     "data": {
      "image/png": "[encoded data removed]",
      "text/plain": [
       "<Figure size 432x288 with 1 Axes>"
      ]
     },
     "metadata": {},
     "output_type": "display_data"
    }
   ],
   "source": [
    "fig, ax = plt.subplots()\n",
    "line1, = ax.plot(learningRate, ErmsTR, label='Training Data')\n",
    "line2, = ax.plot(learningRate, ErmsVal, label='Validation Data')\n",
    "line3, = ax.plot(learningRate, ErmsTest, label='Testing Data')\n",
    "ax.set_xlabel('Learning Rate')\n",
    "ax.set_ylabel('ERMS')\n",
    "ax.grid(True)\n",
    "ax.legend()\n",
    "plt.show()"
   ]
  },
  {
   "cell_type": "code",
   "execution_count": 143,
   "metadata": {},
   "outputs": [
    {
     "data": {
      "image/png": "[encoded data removed]",
      "text/plain": [
       "<Figure size 432x288 with 1 Axes>"
      ]
     },
     "metadata": {},
     "output_type": "display_data"
    }
   ],
   "source": [
    "fig, ax = plt.subplots()\n",
    "line1, = ax.plot(learningRate, AccTR, label='Training Data')\n",
    "line2, = ax.plot(learningRate, AccVal, label='Validation Data')\n",
    "line3, = ax.plot(learningRate, AccTest, label='Testing Data')\n",
    "ax.set_xlabel('Learning Rate')\n",
    "ax.set_ylabel('Accuracy')\n",
    "ax.grid(True)\n",
    "ax.legend()\n",
    "plt.show()"
   ]
  }
 ],
 "metadata": {
  "kernelspec": {
   "display_name": "Python 3",
   "language": "python",
   "name": "python3"
  },
  "language_info": {
   "codemirror_mode": {
    "name": "ipython",
    "version": 3
   },
   "file_extension": ".py",
   "mimetype": "text/x-python",
   "name": "python",
   "nbconvert_exporter": "python",
   "pygments_lexer": "ipython3",
   "version": "3.6.5"
  }
 },
 "nbformat": 4,
 "nbformat_minor": 2
}
